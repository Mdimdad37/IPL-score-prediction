{
 "cells": [
  {
   "cell_type": "markdown",
   "id": "8313b021",
   "metadata": {},
   "source": [
    "## Let's import necessary libraries"
   ]
  },
  {
   "cell_type": "code",
   "execution_count": 1,
   "id": "26670771",
   "metadata": {},
   "outputs": [
    {
     "name": "stderr",
     "output_type": "stream",
     "text": [
      "C:\\Users\\hp\\anaconda3\\lib\\site-packages\\scipy\\__init__.py:146: UserWarning: A NumPy version >=1.16.5 and <1.23.0 is required for this version of SciPy (detected version 1.26.1\n",
      "  warnings.warn(f\"A NumPy version >={np_minversion} and <{np_maxversion}\"\n"
     ]
    }
   ],
   "source": [
    "import numpy as np\n",
    "import pandas as pd\n",
    "import matplotlib.pyplot as plt\n",
    "import seaborn as sns\n",
    "%matplotlib inline"
   ]
  },
  {
   "cell_type": "code",
   "execution_count": 2,
   "id": "89e948b7",
   "metadata": {},
   "outputs": [],
   "source": [
    "data=pd.read_csv(\"ipl_data.csv\")   # Loading dataset"
   ]
  },
  {
   "cell_type": "code",
   "execution_count": 3,
   "id": "b1c4d76e",
   "metadata": {},
   "outputs": [
    {
     "data": {
      "text/html": [
       "<div>\n",
       "<style scoped>\n",
       "    .dataframe tbody tr th:only-of-type {\n",
       "        vertical-align: middle;\n",
       "    }\n",
       "\n",
       "    .dataframe tbody tr th {\n",
       "        vertical-align: top;\n",
       "    }\n",
       "\n",
       "    .dataframe thead th {\n",
       "        text-align: right;\n",
       "    }\n",
       "</style>\n",
       "<table border=\"1\" class=\"dataframe\">\n",
       "  <thead>\n",
       "    <tr style=\"text-align: right;\">\n",
       "      <th></th>\n",
       "      <th>mid</th>\n",
       "      <th>date</th>\n",
       "      <th>venue</th>\n",
       "      <th>bat_team</th>\n",
       "      <th>bowl_team</th>\n",
       "      <th>batsman</th>\n",
       "      <th>bowler</th>\n",
       "      <th>runs</th>\n",
       "      <th>wickets</th>\n",
       "      <th>overs</th>\n",
       "      <th>runs_last_5</th>\n",
       "      <th>wickets_last_5</th>\n",
       "      <th>striker</th>\n",
       "      <th>non-striker</th>\n",
       "      <th>total</th>\n",
       "    </tr>\n",
       "  </thead>\n",
       "  <tbody>\n",
       "    <tr>\n",
       "      <th>0</th>\n",
       "      <td>1</td>\n",
       "      <td>2008-04-18</td>\n",
       "      <td>M Chinnaswamy Stadium</td>\n",
       "      <td>Kolkata Knight Riders</td>\n",
       "      <td>Royal Challengers Bangalore</td>\n",
       "      <td>SC Ganguly</td>\n",
       "      <td>P Kumar</td>\n",
       "      <td>1</td>\n",
       "      <td>0</td>\n",
       "      <td>0.1</td>\n",
       "      <td>1</td>\n",
       "      <td>0</td>\n",
       "      <td>0</td>\n",
       "      <td>0</td>\n",
       "      <td>222</td>\n",
       "    </tr>\n",
       "    <tr>\n",
       "      <th>1</th>\n",
       "      <td>1</td>\n",
       "      <td>2008-04-18</td>\n",
       "      <td>M Chinnaswamy Stadium</td>\n",
       "      <td>Kolkata Knight Riders</td>\n",
       "      <td>Royal Challengers Bangalore</td>\n",
       "      <td>BB McCullum</td>\n",
       "      <td>P Kumar</td>\n",
       "      <td>1</td>\n",
       "      <td>0</td>\n",
       "      <td>0.2</td>\n",
       "      <td>1</td>\n",
       "      <td>0</td>\n",
       "      <td>0</td>\n",
       "      <td>0</td>\n",
       "      <td>222</td>\n",
       "    </tr>\n",
       "    <tr>\n",
       "      <th>2</th>\n",
       "      <td>1</td>\n",
       "      <td>2008-04-18</td>\n",
       "      <td>M Chinnaswamy Stadium</td>\n",
       "      <td>Kolkata Knight Riders</td>\n",
       "      <td>Royal Challengers Bangalore</td>\n",
       "      <td>BB McCullum</td>\n",
       "      <td>P Kumar</td>\n",
       "      <td>2</td>\n",
       "      <td>0</td>\n",
       "      <td>0.2</td>\n",
       "      <td>2</td>\n",
       "      <td>0</td>\n",
       "      <td>0</td>\n",
       "      <td>0</td>\n",
       "      <td>222</td>\n",
       "    </tr>\n",
       "    <tr>\n",
       "      <th>3</th>\n",
       "      <td>1</td>\n",
       "      <td>2008-04-18</td>\n",
       "      <td>M Chinnaswamy Stadium</td>\n",
       "      <td>Kolkata Knight Riders</td>\n",
       "      <td>Royal Challengers Bangalore</td>\n",
       "      <td>BB McCullum</td>\n",
       "      <td>P Kumar</td>\n",
       "      <td>2</td>\n",
       "      <td>0</td>\n",
       "      <td>0.3</td>\n",
       "      <td>2</td>\n",
       "      <td>0</td>\n",
       "      <td>0</td>\n",
       "      <td>0</td>\n",
       "      <td>222</td>\n",
       "    </tr>\n",
       "    <tr>\n",
       "      <th>4</th>\n",
       "      <td>1</td>\n",
       "      <td>2008-04-18</td>\n",
       "      <td>M Chinnaswamy Stadium</td>\n",
       "      <td>Kolkata Knight Riders</td>\n",
       "      <td>Royal Challengers Bangalore</td>\n",
       "      <td>BB McCullum</td>\n",
       "      <td>P Kumar</td>\n",
       "      <td>2</td>\n",
       "      <td>0</td>\n",
       "      <td>0.4</td>\n",
       "      <td>2</td>\n",
       "      <td>0</td>\n",
       "      <td>0</td>\n",
       "      <td>0</td>\n",
       "      <td>222</td>\n",
       "    </tr>\n",
       "  </tbody>\n",
       "</table>\n",
       "</div>"
      ],
      "text/plain": [
       "   mid        date                  venue               bat_team  \\\n",
       "0    1  2008-04-18  M Chinnaswamy Stadium  Kolkata Knight Riders   \n",
       "1    1  2008-04-18  M Chinnaswamy Stadium  Kolkata Knight Riders   \n",
       "2    1  2008-04-18  M Chinnaswamy Stadium  Kolkata Knight Riders   \n",
       "3    1  2008-04-18  M Chinnaswamy Stadium  Kolkata Knight Riders   \n",
       "4    1  2008-04-18  M Chinnaswamy Stadium  Kolkata Knight Riders   \n",
       "\n",
       "                     bowl_team      batsman   bowler  runs  wickets  overs  \\\n",
       "0  Royal Challengers Bangalore   SC Ganguly  P Kumar     1        0    0.1   \n",
       "1  Royal Challengers Bangalore  BB McCullum  P Kumar     1        0    0.2   \n",
       "2  Royal Challengers Bangalore  BB McCullum  P Kumar     2        0    0.2   \n",
       "3  Royal Challengers Bangalore  BB McCullum  P Kumar     2        0    0.3   \n",
       "4  Royal Challengers Bangalore  BB McCullum  P Kumar     2        0    0.4   \n",
       "\n",
       "   runs_last_5  wickets_last_5  striker  non-striker  total  \n",
       "0            1               0        0            0    222  \n",
       "1            1               0        0            0    222  \n",
       "2            2               0        0            0    222  \n",
       "3            2               0        0            0    222  \n",
       "4            2               0        0            0    222  "
      ]
     },
     "execution_count": 3,
     "metadata": {},
     "output_type": "execute_result"
    }
   ],
   "source": [
    "data.head()"
   ]
  },
  {
   "cell_type": "code",
   "execution_count": 4,
   "id": "e8122ac0",
   "metadata": {},
   "outputs": [
    {
     "data": {
      "text/html": [
       "<div>\n",
       "<style scoped>\n",
       "    .dataframe tbody tr th:only-of-type {\n",
       "        vertical-align: middle;\n",
       "    }\n",
       "\n",
       "    .dataframe tbody tr th {\n",
       "        vertical-align: top;\n",
       "    }\n",
       "\n",
       "    .dataframe thead th {\n",
       "        text-align: right;\n",
       "    }\n",
       "</style>\n",
       "<table border=\"1\" class=\"dataframe\">\n",
       "  <thead>\n",
       "    <tr style=\"text-align: right;\">\n",
       "      <th></th>\n",
       "      <th>mid</th>\n",
       "      <th>runs</th>\n",
       "      <th>wickets</th>\n",
       "      <th>overs</th>\n",
       "      <th>runs_last_5</th>\n",
       "      <th>wickets_last_5</th>\n",
       "      <th>striker</th>\n",
       "      <th>non-striker</th>\n",
       "      <th>total</th>\n",
       "    </tr>\n",
       "  </thead>\n",
       "  <tbody>\n",
       "    <tr>\n",
       "      <th>count</th>\n",
       "      <td>76014.000000</td>\n",
       "      <td>76014.000000</td>\n",
       "      <td>76014.000000</td>\n",
       "      <td>76014.000000</td>\n",
       "      <td>76014.000000</td>\n",
       "      <td>76014.000000</td>\n",
       "      <td>76014.000000</td>\n",
       "      <td>76014.000000</td>\n",
       "      <td>76014.000000</td>\n",
       "    </tr>\n",
       "    <tr>\n",
       "      <th>mean</th>\n",
       "      <td>308.627740</td>\n",
       "      <td>74.889349</td>\n",
       "      <td>2.415844</td>\n",
       "      <td>9.783068</td>\n",
       "      <td>33.216434</td>\n",
       "      <td>1.120307</td>\n",
       "      <td>24.962283</td>\n",
       "      <td>8.869287</td>\n",
       "      <td>160.901452</td>\n",
       "    </tr>\n",
       "    <tr>\n",
       "      <th>std</th>\n",
       "      <td>178.156878</td>\n",
       "      <td>48.823327</td>\n",
       "      <td>2.015207</td>\n",
       "      <td>5.772587</td>\n",
       "      <td>14.914174</td>\n",
       "      <td>1.053343</td>\n",
       "      <td>20.079752</td>\n",
       "      <td>10.795742</td>\n",
       "      <td>29.246231</td>\n",
       "    </tr>\n",
       "    <tr>\n",
       "      <th>min</th>\n",
       "      <td>1.000000</td>\n",
       "      <td>0.000000</td>\n",
       "      <td>0.000000</td>\n",
       "      <td>0.000000</td>\n",
       "      <td>0.000000</td>\n",
       "      <td>0.000000</td>\n",
       "      <td>0.000000</td>\n",
       "      <td>0.000000</td>\n",
       "      <td>67.000000</td>\n",
       "    </tr>\n",
       "    <tr>\n",
       "      <th>25%</th>\n",
       "      <td>154.000000</td>\n",
       "      <td>34.000000</td>\n",
       "      <td>1.000000</td>\n",
       "      <td>4.600000</td>\n",
       "      <td>24.000000</td>\n",
       "      <td>0.000000</td>\n",
       "      <td>10.000000</td>\n",
       "      <td>1.000000</td>\n",
       "      <td>142.000000</td>\n",
       "    </tr>\n",
       "    <tr>\n",
       "      <th>50%</th>\n",
       "      <td>308.000000</td>\n",
       "      <td>70.000000</td>\n",
       "      <td>2.000000</td>\n",
       "      <td>9.600000</td>\n",
       "      <td>34.000000</td>\n",
       "      <td>1.000000</td>\n",
       "      <td>20.000000</td>\n",
       "      <td>5.000000</td>\n",
       "      <td>162.000000</td>\n",
       "    </tr>\n",
       "    <tr>\n",
       "      <th>75%</th>\n",
       "      <td>463.000000</td>\n",
       "      <td>111.000000</td>\n",
       "      <td>4.000000</td>\n",
       "      <td>14.600000</td>\n",
       "      <td>43.000000</td>\n",
       "      <td>2.000000</td>\n",
       "      <td>35.000000</td>\n",
       "      <td>13.000000</td>\n",
       "      <td>181.000000</td>\n",
       "    </tr>\n",
       "    <tr>\n",
       "      <th>max</th>\n",
       "      <td>617.000000</td>\n",
       "      <td>263.000000</td>\n",
       "      <td>10.000000</td>\n",
       "      <td>19.600000</td>\n",
       "      <td>113.000000</td>\n",
       "      <td>7.000000</td>\n",
       "      <td>175.000000</td>\n",
       "      <td>109.000000</td>\n",
       "      <td>263.000000</td>\n",
       "    </tr>\n",
       "  </tbody>\n",
       "</table>\n",
       "</div>"
      ],
      "text/plain": [
       "                mid          runs       wickets         overs   runs_last_5  \\\n",
       "count  76014.000000  76014.000000  76014.000000  76014.000000  76014.000000   \n",
       "mean     308.627740     74.889349      2.415844      9.783068     33.216434   \n",
       "std      178.156878     48.823327      2.015207      5.772587     14.914174   \n",
       "min        1.000000      0.000000      0.000000      0.000000      0.000000   \n",
       "25%      154.000000     34.000000      1.000000      4.600000     24.000000   \n",
       "50%      308.000000     70.000000      2.000000      9.600000     34.000000   \n",
       "75%      463.000000    111.000000      4.000000     14.600000     43.000000   \n",
       "max      617.000000    263.000000     10.000000     19.600000    113.000000   \n",
       "\n",
       "       wickets_last_5       striker   non-striker         total  \n",
       "count    76014.000000  76014.000000  76014.000000  76014.000000  \n",
       "mean         1.120307     24.962283      8.869287    160.901452  \n",
       "std          1.053343     20.079752     10.795742     29.246231  \n",
       "min          0.000000      0.000000      0.000000     67.000000  \n",
       "25%          0.000000     10.000000      1.000000    142.000000  \n",
       "50%          1.000000     20.000000      5.000000    162.000000  \n",
       "75%          2.000000     35.000000     13.000000    181.000000  \n",
       "max          7.000000    175.000000    109.000000    263.000000  "
      ]
     },
     "execution_count": 4,
     "metadata": {},
     "output_type": "execute_result"
    }
   ],
   "source": [
    "data.describe()"
   ]
  },
  {
   "cell_type": "code",
   "execution_count": 5,
   "id": "148f07ba",
   "metadata": {},
   "outputs": [
    {
     "data": {
      "text/plain": [
       "Index(['mid', 'date', 'venue', 'bat_team', 'bowl_team', 'batsman', 'bowler',\n",
       "       'runs', 'wickets', 'overs', 'runs_last_5', 'wickets_last_5', 'striker',\n",
       "       'non-striker', 'total'],\n",
       "      dtype='object')"
      ]
     },
     "execution_count": 5,
     "metadata": {},
     "output_type": "execute_result"
    }
   ],
   "source": [
    "data.columns"
   ]
  },
  {
   "cell_type": "markdown",
   "id": "5c048994",
   "metadata": {},
   "source": [
    "## Data preprocessing"
   ]
  },
  {
   "cell_type": "code",
   "execution_count": 6,
   "id": "d92a3b0b",
   "metadata": {},
   "outputs": [],
   "source": [
    "# we are going to drop some features\n",
    "ipl=data.drop(['mid','date','runs', 'wickets', 'overs','runs_last_5', 'wickets_last_5','striker','non-striker'],axis=1)"
   ]
  },
  {
   "cell_type": "code",
   "execution_count": 7,
   "id": "c8f90301",
   "metadata": {},
   "outputs": [
    {
     "data": {
      "text/html": [
       "<div>\n",
       "<style scoped>\n",
       "    .dataframe tbody tr th:only-of-type {\n",
       "        vertical-align: middle;\n",
       "    }\n",
       "\n",
       "    .dataframe tbody tr th {\n",
       "        vertical-align: top;\n",
       "    }\n",
       "\n",
       "    .dataframe thead th {\n",
       "        text-align: right;\n",
       "    }\n",
       "</style>\n",
       "<table border=\"1\" class=\"dataframe\">\n",
       "  <thead>\n",
       "    <tr style=\"text-align: right;\">\n",
       "      <th></th>\n",
       "      <th>venue</th>\n",
       "      <th>bat_team</th>\n",
       "      <th>bowl_team</th>\n",
       "      <th>batsman</th>\n",
       "      <th>bowler</th>\n",
       "      <th>total</th>\n",
       "    </tr>\n",
       "  </thead>\n",
       "  <tbody>\n",
       "    <tr>\n",
       "      <th>0</th>\n",
       "      <td>M Chinnaswamy Stadium</td>\n",
       "      <td>Kolkata Knight Riders</td>\n",
       "      <td>Royal Challengers Bangalore</td>\n",
       "      <td>SC Ganguly</td>\n",
       "      <td>P Kumar</td>\n",
       "      <td>222</td>\n",
       "    </tr>\n",
       "    <tr>\n",
       "      <th>1</th>\n",
       "      <td>M Chinnaswamy Stadium</td>\n",
       "      <td>Kolkata Knight Riders</td>\n",
       "      <td>Royal Challengers Bangalore</td>\n",
       "      <td>BB McCullum</td>\n",
       "      <td>P Kumar</td>\n",
       "      <td>222</td>\n",
       "    </tr>\n",
       "    <tr>\n",
       "      <th>2</th>\n",
       "      <td>M Chinnaswamy Stadium</td>\n",
       "      <td>Kolkata Knight Riders</td>\n",
       "      <td>Royal Challengers Bangalore</td>\n",
       "      <td>BB McCullum</td>\n",
       "      <td>P Kumar</td>\n",
       "      <td>222</td>\n",
       "    </tr>\n",
       "  </tbody>\n",
       "</table>\n",
       "</div>"
      ],
      "text/plain": [
       "                   venue               bat_team                    bowl_team  \\\n",
       "0  M Chinnaswamy Stadium  Kolkata Knight Riders  Royal Challengers Bangalore   \n",
       "1  M Chinnaswamy Stadium  Kolkata Knight Riders  Royal Challengers Bangalore   \n",
       "2  M Chinnaswamy Stadium  Kolkata Knight Riders  Royal Challengers Bangalore   \n",
       "\n",
       "       batsman   bowler  total  \n",
       "0   SC Ganguly  P Kumar    222  \n",
       "1  BB McCullum  P Kumar    222  \n",
       "2  BB McCullum  P Kumar    222  "
      ]
     },
     "execution_count": 7,
     "metadata": {},
     "output_type": "execute_result"
    }
   ],
   "source": [
    "ipl.head(3)"
   ]
  },
  {
   "cell_type": "code",
   "execution_count": 8,
   "id": "e499fb04",
   "metadata": {},
   "outputs": [
    {
     "data": {
      "text/plain": [
       "venue        0\n",
       "bat_team     0\n",
       "bowl_team    0\n",
       "batsman      0\n",
       "bowler       0\n",
       "total        0\n",
       "dtype: int64"
      ]
     },
     "execution_count": 8,
     "metadata": {},
     "output_type": "execute_result"
    }
   ],
   "source": [
    "ipl.isnull().sum()  # there is no null value present in dataset"
   ]
  },
  {
   "cell_type": "code",
   "execution_count": 9,
   "id": "69cc7d8c",
   "metadata": {},
   "outputs": [],
   "source": [
    "# Going to divide into two categories like independent vriable(x) and dependent vaariable(y).\n",
    "x=ipl.drop('total',axis=1)\n",
    "y=ipl.total"
   ]
  },
  {
   "cell_type": "code",
   "execution_count": 10,
   "id": "466a2ef9",
   "metadata": {},
   "outputs": [
    {
     "data": {
      "text/html": [
       "<div>\n",
       "<style scoped>\n",
       "    .dataframe tbody tr th:only-of-type {\n",
       "        vertical-align: middle;\n",
       "    }\n",
       "\n",
       "    .dataframe tbody tr th {\n",
       "        vertical-align: top;\n",
       "    }\n",
       "\n",
       "    .dataframe thead th {\n",
       "        text-align: right;\n",
       "    }\n",
       "</style>\n",
       "<table border=\"1\" class=\"dataframe\">\n",
       "  <thead>\n",
       "    <tr style=\"text-align: right;\">\n",
       "      <th></th>\n",
       "      <th>venue</th>\n",
       "      <th>bat_team</th>\n",
       "      <th>bowl_team</th>\n",
       "      <th>batsman</th>\n",
       "      <th>bowler</th>\n",
       "    </tr>\n",
       "  </thead>\n",
       "  <tbody>\n",
       "    <tr>\n",
       "      <th>0</th>\n",
       "      <td>M Chinnaswamy Stadium</td>\n",
       "      <td>Kolkata Knight Riders</td>\n",
       "      <td>Royal Challengers Bangalore</td>\n",
       "      <td>SC Ganguly</td>\n",
       "      <td>P Kumar</td>\n",
       "    </tr>\n",
       "    <tr>\n",
       "      <th>1</th>\n",
       "      <td>M Chinnaswamy Stadium</td>\n",
       "      <td>Kolkata Knight Riders</td>\n",
       "      <td>Royal Challengers Bangalore</td>\n",
       "      <td>BB McCullum</td>\n",
       "      <td>P Kumar</td>\n",
       "    </tr>\n",
       "    <tr>\n",
       "      <th>2</th>\n",
       "      <td>M Chinnaswamy Stadium</td>\n",
       "      <td>Kolkata Knight Riders</td>\n",
       "      <td>Royal Challengers Bangalore</td>\n",
       "      <td>BB McCullum</td>\n",
       "      <td>P Kumar</td>\n",
       "    </tr>\n",
       "  </tbody>\n",
       "</table>\n",
       "</div>"
      ],
      "text/plain": [
       "                   venue               bat_team                    bowl_team  \\\n",
       "0  M Chinnaswamy Stadium  Kolkata Knight Riders  Royal Challengers Bangalore   \n",
       "1  M Chinnaswamy Stadium  Kolkata Knight Riders  Royal Challengers Bangalore   \n",
       "2  M Chinnaswamy Stadium  Kolkata Knight Riders  Royal Challengers Bangalore   \n",
       "\n",
       "       batsman   bowler  \n",
       "0   SC Ganguly  P Kumar  \n",
       "1  BB McCullum  P Kumar  \n",
       "2  BB McCullum  P Kumar  "
      ]
     },
     "execution_count": 10,
     "metadata": {},
     "output_type": "execute_result"
    }
   ],
   "source": [
    "x.head(3)"
   ]
  },
  {
   "cell_type": "code",
   "execution_count": 11,
   "id": "35116ed7",
   "metadata": {},
   "outputs": [
    {
     "data": {
      "text/plain": [
       "0    222\n",
       "1    222\n",
       "2    222\n",
       "Name: total, dtype: int64"
      ]
     },
     "execution_count": 11,
     "metadata": {},
     "output_type": "execute_result"
    }
   ],
   "source": [
    "y.head(3)"
   ]
  },
  {
   "cell_type": "code",
   "execution_count": 12,
   "id": "c8bb0b95",
   "metadata": {},
   "outputs": [],
   "source": [
    "# we can see all the value's are not in numerical form so going to convert all the feature value to numeric format in x.\n",
    "from sklearn.preprocessing import LabelEncoder\n",
    "\n",
    "venue_encoder=LabelEncoder()\n",
    "bat_team_encoder=LabelEncoder()\n",
    "bowl_team_encoder=LabelEncoder()\n",
    "batsman_encoder=LabelEncoder()\n",
    "bowler_encoder=LabelEncoder()\n",
    "\n",
    "x['venue']=venue_encoder.fit_transform(x['venue'])\n",
    "x['bat_team']=bat_team_encoder.fit_transform(x['bat_team'])\n",
    "x['bowl_team']=bowl_team_encoder.fit_transform(x['bowl_team'])\n",
    "x['batsman']=batsman_encoder.fit_transform(x['batsman'])\n",
    "x['bowler']=bowler_encoder.fit_transform(x['bowler'])"
   ]
  },
  {
   "cell_type": "markdown",
   "id": "f31e5ffe",
   "metadata": {},
   "source": [
    "## Train Test Split"
   ]
  },
  {
   "cell_type": "markdown",
   "id": "8a1cf868",
   "metadata": {},
   "source": [
    "We have split the data into training and testing sets. The training set contains 70 percent of the dataset and rest 30 percent is in test set.\n",
    "X_train contains the training data for your input features.\n",
    "X_test contains the testing data for your input features.\n",
    "y_train contains the training data for your target variable.\n",
    "y_test contains the testing data for your target variable."
   ]
  },
  {
   "cell_type": "code",
   "execution_count": 13,
   "id": "88572aea",
   "metadata": {},
   "outputs": [],
   "source": [
    "from sklearn.model_selection  import train_test_split\n",
    "x_train,x_test,y_train,y_test=train_test_split(x,y,test_size=0.3,random_state=42)"
   ]
  },
  {
   "cell_type": "code",
   "execution_count": 14,
   "id": "dc1a8503",
   "metadata": {},
   "outputs": [
    {
     "data": {
      "text/html": [
       "<div>\n",
       "<style scoped>\n",
       "    .dataframe tbody tr th:only-of-type {\n",
       "        vertical-align: middle;\n",
       "    }\n",
       "\n",
       "    .dataframe tbody tr th {\n",
       "        vertical-align: top;\n",
       "    }\n",
       "\n",
       "    .dataframe thead th {\n",
       "        text-align: right;\n",
       "    }\n",
       "</style>\n",
       "<table border=\"1\" class=\"dataframe\">\n",
       "  <thead>\n",
       "    <tr style=\"text-align: right;\">\n",
       "      <th></th>\n",
       "      <th>venue</th>\n",
       "      <th>bat_team</th>\n",
       "      <th>bowl_team</th>\n",
       "      <th>batsman</th>\n",
       "      <th>bowler</th>\n",
       "    </tr>\n",
       "  </thead>\n",
       "  <tbody>\n",
       "    <tr>\n",
       "      <th>0</th>\n",
       "      <td>14</td>\n",
       "      <td>6</td>\n",
       "      <td>12</td>\n",
       "      <td>328</td>\n",
       "      <td>201</td>\n",
       "    </tr>\n",
       "    <tr>\n",
       "      <th>1</th>\n",
       "      <td>14</td>\n",
       "      <td>6</td>\n",
       "      <td>12</td>\n",
       "      <td>61</td>\n",
       "      <td>201</td>\n",
       "    </tr>\n",
       "    <tr>\n",
       "      <th>2</th>\n",
       "      <td>14</td>\n",
       "      <td>6</td>\n",
       "      <td>12</td>\n",
       "      <td>61</td>\n",
       "      <td>201</td>\n",
       "    </tr>\n",
       "    <tr>\n",
       "      <th>3</th>\n",
       "      <td>14</td>\n",
       "      <td>6</td>\n",
       "      <td>12</td>\n",
       "      <td>61</td>\n",
       "      <td>201</td>\n",
       "    </tr>\n",
       "    <tr>\n",
       "      <th>4</th>\n",
       "      <td>14</td>\n",
       "      <td>6</td>\n",
       "      <td>12</td>\n",
       "      <td>61</td>\n",
       "      <td>201</td>\n",
       "    </tr>\n",
       "  </tbody>\n",
       "</table>\n",
       "</div>"
      ],
      "text/plain": [
       "   venue  bat_team  bowl_team  batsman  bowler\n",
       "0     14         6         12      328     201\n",
       "1     14         6         12       61     201\n",
       "2     14         6         12       61     201\n",
       "3     14         6         12       61     201\n",
       "4     14         6         12       61     201"
      ]
     },
     "execution_count": 14,
     "metadata": {},
     "output_type": "execute_result"
    }
   ],
   "source": [
    "x.head()"
   ]
  },
  {
   "cell_type": "code",
   "execution_count": 15,
   "id": "e2a8223b",
   "metadata": {},
   "outputs": [],
   "source": [
    "# we need to perform min-max scaling to input features to ensure that all the features are in same scale"
   ]
  },
  {
   "cell_type": "code",
   "execution_count": 16,
   "id": "7775b06b",
   "metadata": {},
   "outputs": [],
   "source": [
    "from sklearn.preprocessing import MinMaxScaler\n",
    "scaler=MinMaxScaler()\n"
   ]
  },
  {
   "cell_type": "code",
   "execution_count": 17,
   "id": "10f835df",
   "metadata": {},
   "outputs": [],
   "source": [
    "x_train_scaled=scaler.fit_transform(x_train)\n",
    "x_test_scaled=scaler.fit_transform(x_test)"
   ]
  },
  {
   "cell_type": "markdown",
   "id": "94cf8a28",
   "metadata": {},
   "source": [
    "## Define the Neural Network"
   ]
  },
  {
   "cell_type": "code",
   "execution_count": 18,
   "id": "dbbdfc38",
   "metadata": {},
   "outputs": [],
   "source": [
    "# We have defined a neural network using TensorFlow and Keras for regression.\n",
    "# After defining the model, we have compiled the model using the Huber Loss."
   ]
  },
  {
   "cell_type": "code",
   "execution_count": 19,
   "id": "4424a145",
   "metadata": {},
   "outputs": [],
   "source": [
    "import keras\n",
    "import tensorflow as tf\n",
    "model=keras.Sequential([\n",
    "    keras.layers.Input(shape=(x_train_scaled.shape[1],)),  # Input layer\n",
    "    keras.layers.Dense(512, activation='relu'),            # Hidden layer with 512 units and ReLU activation\n",
    "    keras.layers.Dense(216, activation='relu'),            # Hidden layer with 216 units and ReLU activation\n",
    "    keras.layers.Dense(1, activation='linear')             # Output layer with linear activation for regression\n",
    "])\n",
    "\n",
    "huber_loss=tf.keras.losses.Huber(delta=1.0)\n",
    "model.compile(optimizer='adam', loss='huber_loss')         # Use Huber loss for regression"
   ]
  },
  {
   "cell_type": "markdown",
   "id": "866d64dd",
   "metadata": {},
   "source": [
    "# model trainig"
   ]
  },
  {
   "cell_type": "code",
   "execution_count": 33,
   "id": "1780173d",
   "metadata": {},
   "outputs": [],
   "source": [
    "# We have trained the neural network model using the scaled training data.\n"
   ]
  },
  {
   "cell_type": "code",
   "execution_count": 20,
   "id": "277285ca",
   "metadata": {},
   "outputs": [
    {
     "name": "stdout",
     "output_type": "stream",
     "text": [
      "Epoch 1/50\n",
      "832/832 [==============================] - 7s 6ms/step - loss: 32.0692 - val_loss: 22.0273\n",
      "Epoch 2/50\n",
      "832/832 [==============================] - 5s 6ms/step - loss: 22.3492 - val_loss: 22.1408\n",
      "Epoch 3/50\n",
      "832/832 [==============================] - 5s 6ms/step - loss: 22.2727 - val_loss: 21.9499\n",
      "Epoch 4/50\n",
      "832/832 [==============================] - 4s 5ms/step - loss: 22.2507 - val_loss: 21.9076\n",
      "Epoch 5/50\n",
      "832/832 [==============================] - 4s 5ms/step - loss: 22.2039 - val_loss: 21.9450\n",
      "Epoch 6/50\n",
      "832/832 [==============================] - 4s 5ms/step - loss: 22.1764 - val_loss: 21.9264\n",
      "Epoch 7/50\n",
      "832/832 [==============================] - 5s 6ms/step - loss: 22.1922 - val_loss: 21.8138\n",
      "Epoch 8/50\n",
      "832/832 [==============================] - 5s 5ms/step - loss: 22.1300 - val_loss: 21.8155\n",
      "Epoch 9/50\n",
      "832/832 [==============================] - 4s 5ms/step - loss: 22.1064 - val_loss: 21.8753\n",
      "Epoch 10/50\n",
      "832/832 [==============================] - 4s 5ms/step - loss: 22.0752 - val_loss: 21.8126\n",
      "Epoch 11/50\n",
      "832/832 [==============================] - 4s 5ms/step - loss: 22.0969 - val_loss: 21.7321\n",
      "Epoch 12/50\n",
      "832/832 [==============================] - 4s 5ms/step - loss: 22.0957 - val_loss: 21.9232\n",
      "Epoch 13/50\n",
      "832/832 [==============================] - 4s 5ms/step - loss: 22.0339 - val_loss: 21.8458\n",
      "Epoch 14/50\n",
      "832/832 [==============================] - 4s 5ms/step - loss: 22.0191 - val_loss: 21.6961\n",
      "Epoch 15/50\n",
      "832/832 [==============================] - 4s 5ms/step - loss: 22.0269 - val_loss: 21.7412\n",
      "Epoch 16/50\n",
      "832/832 [==============================] - 4s 5ms/step - loss: 21.9235 - val_loss: 21.6060\n",
      "Epoch 17/50\n",
      "832/832 [==============================] - 4s 5ms/step - loss: 21.8516 - val_loss: 21.6440\n",
      "Epoch 18/50\n",
      "832/832 [==============================] - 5s 6ms/step - loss: 21.7615 - val_loss: 21.6775\n",
      "Epoch 19/50\n",
      "832/832 [==============================] - 5s 6ms/step - loss: 21.7288 - val_loss: 21.3789\n",
      "Epoch 20/50\n",
      "832/832 [==============================] - 4s 5ms/step - loss: 21.7114 - val_loss: 21.3341\n",
      "Epoch 21/50\n",
      "832/832 [==============================] - 5s 5ms/step - loss: 21.6317 - val_loss: 21.3386\n",
      "Epoch 22/50\n",
      "832/832 [==============================] - 4s 5ms/step - loss: 21.5798 - val_loss: 21.3239\n",
      "Epoch 23/50\n",
      "832/832 [==============================] - 4s 5ms/step - loss: 21.5307 - val_loss: 21.2554\n",
      "Epoch 24/50\n",
      "832/832 [==============================] - 4s 5ms/step - loss: 21.5118 - val_loss: 21.1411\n",
      "Epoch 25/50\n",
      "832/832 [==============================] - 4s 5ms/step - loss: 21.4958 - val_loss: 21.1743\n",
      "Epoch 26/50\n",
      "832/832 [==============================] - 5s 6ms/step - loss: 21.3987 - val_loss: 21.6962\n",
      "Epoch 27/50\n",
      "832/832 [==============================] - 4s 5ms/step - loss: 21.3154 - val_loss: 21.0575\n",
      "Epoch 28/50\n",
      "832/832 [==============================] - 5s 6ms/step - loss: 21.3033 - val_loss: 21.0479\n",
      "Epoch 29/50\n",
      "832/832 [==============================] - 4s 5ms/step - loss: 21.2185 - val_loss: 20.9697\n",
      "Epoch 30/50\n",
      "832/832 [==============================] - 4s 5ms/step - loss: 21.1411 - val_loss: 20.8906\n",
      "Epoch 31/50\n",
      "832/832 [==============================] - 5s 6ms/step - loss: 21.1038 - val_loss: 20.9498\n",
      "Epoch 32/50\n",
      "832/832 [==============================] - 5s 6ms/step - loss: 20.9967 - val_loss: 20.7215\n",
      "Epoch 33/50\n",
      "832/832 [==============================] - 6s 7ms/step - loss: 20.9527 - val_loss: 20.6872\n",
      "Epoch 34/50\n",
      "832/832 [==============================] - 5s 6ms/step - loss: 20.8123 - val_loss: 20.5595\n",
      "Epoch 35/50\n",
      "832/832 [==============================] - 4s 5ms/step - loss: 20.7345 - val_loss: 20.5042\n",
      "Epoch 36/50\n",
      "832/832 [==============================] - 4s 5ms/step - loss: 20.5997 - val_loss: 20.3045\n",
      "Epoch 37/50\n",
      "832/832 [==============================] - 4s 5ms/step - loss: 20.4901 - val_loss: 20.1841\n",
      "Epoch 38/50\n",
      "832/832 [==============================] - 4s 5ms/step - loss: 20.3625 - val_loss: 20.1628\n",
      "Epoch 39/50\n",
      "832/832 [==============================] - 4s 5ms/step - loss: 20.2589 - val_loss: 19.9977\n",
      "Epoch 40/50\n",
      "832/832 [==============================] - 4s 5ms/step - loss: 20.1665 - val_loss: 19.7566\n",
      "Epoch 41/50\n",
      "832/832 [==============================] - 4s 5ms/step - loss: 20.0459 - val_loss: 20.3067\n",
      "Epoch 42/50\n",
      "832/832 [==============================] - 4s 5ms/step - loss: 19.8972 - val_loss: 19.6353\n",
      "Epoch 43/50\n",
      "832/832 [==============================] - 4s 5ms/step - loss: 19.8017 - val_loss: 19.8080\n",
      "Epoch 44/50\n",
      "832/832 [==============================] - 4s 5ms/step - loss: 19.6863 - val_loss: 19.4122\n",
      "Epoch 45/50\n",
      "832/832 [==============================] - 4s 5ms/step - loss: 19.6093 - val_loss: 19.5284\n",
      "Epoch 46/50\n",
      "832/832 [==============================] - 4s 5ms/step - loss: 19.5052 - val_loss: 19.6904\n",
      "Epoch 47/50\n",
      "832/832 [==============================] - 4s 5ms/step - loss: 19.4258 - val_loss: 19.9161\n",
      "Epoch 48/50\n",
      "832/832 [==============================] - 4s 5ms/step - loss: 19.3394 - val_loss: 19.2345\n",
      "Epoch 49/50\n",
      "832/832 [==============================] - 4s 5ms/step - loss: 19.2767 - val_loss: 19.6228\n",
      "Epoch 50/50\n",
      "832/832 [==============================] - 4s 5ms/step - loss: 19.1793 - val_loss: 19.1343\n"
     ]
    },
    {
     "data": {
      "text/plain": [
       "<keras.src.callbacks.History at 0x28b627d6d00>"
      ]
     },
     "execution_count": 20,
     "metadata": {},
     "output_type": "execute_result"
    }
   ],
   "source": [
    "model.fit(x_train_scaled,y_train, epochs=50, batch_size=64, validation_data=(x_test_scaled,y_test))"
   ]
  },
  {
   "cell_type": "code",
   "execution_count": 21,
   "id": "558654a4",
   "metadata": {},
   "outputs": [
    {
     "data": {
      "text/plain": [
       "<AxesSubplot:>"
      ]
     },
     "execution_count": 21,
     "metadata": {},
     "output_type": "execute_result"
    },
    {
     "data": {
      "image/png": "[encoded data removed]",
      "text/plain": [
       "<Figure size 432x288 with 1 Axes>"
      ]
     },
     "metadata": {
      "needs_background": "light"
     },
     "output_type": "display_data"
    }
   ],
   "source": [
    "model_loss=pd.DataFrame(model.history.history)\n",
    "model_loss.plot()"
   ]
  },
  {
   "cell_type": "markdown",
   "id": "4cf23553",
   "metadata": {},
   "source": [
    "## Model Evaluation"
   ]
  },
  {
   "cell_type": "code",
   "execution_count": 22,
   "id": "4ca2d856",
   "metadata": {},
   "outputs": [],
   "source": [
    "# We have predicted using the trained neural network on the testing data."
   ]
  },
  {
   "cell_type": "code",
   "execution_count": 23,
   "id": "05218bbe",
   "metadata": {},
   "outputs": [
    {
     "name": "stdout",
     "output_type": "stream",
     "text": [
      "713/713 [==============================] - 2s 2ms/step\n"
     ]
    },
    {
     "data": {
      "text/plain": [
       "19.62458732252031"
      ]
     },
     "execution_count": 23,
     "metadata": {},
     "output_type": "execute_result"
    }
   ],
   "source": [
    "predictions=model.predict(x_test_scaled)\n",
    "from sklearn.metrics import mean_squared_error, mean_absolute_error\n",
    "mean_absolute_error(y_test,predictions)"
   ]
  },
  {
   "cell_type": "markdown",
   "id": "3639f8b6",
   "metadata": {},
   "source": [
    "We have created an interactive widget using ipywidgets to predict the score based on user input for venue, batting team, bowling team, striker, and bowler.\n",
    "We have created dropdown widgets to select values for venue, batting team, bowling team, striker, and bowler.\n",
    "Then, we have added a “Predicted Score” button widget. Whenever, the button will be clicked, the predict_score function will be called and then perform the following steps:\n",
    "Decodes the user-selected values to their original categorical values.\n",
    "Encodes and scales these values to match the format used in model training.\n",
    "Uses the trained model to make a prediction based on the user’s input.\n",
    "Displays the predicted score"
   ]
  },
  {
   "cell_type": "code",
   "execution_count": 40,
   "id": "64c490dc",
   "metadata": {},
   "outputs": [],
   "source": [
    "import ipywidgets as widgets\n",
    "from IPython.display import display, clear_output\n",
    " \n",
    "import warnings\n",
    "warnings.filterwarnings(\"ignore\")\n",
    " \n",
    "venue = widgets.Dropdown(options=ipl['venue'].unique().tolist(),description='Select Venue:')\n",
    "batting_team = widgets.Dropdown(options =ipl['bat_team'].unique().tolist(),  description='Select Batting Team:')\n",
    "bowling_team = widgets.Dropdown(options=ipl['bowl_team'].unique().tolist(),  description='Select Batting Team:')\n",
    "batsman = widgets.Dropdown(options=ipl['batsman'].unique().tolist(), description='Select Batsman:')\n",
    "bowler = widgets.Dropdown(options=ipl['bowler'].unique().tolist(), description='Select Bowler:')\n",
    " \n",
    "predict_button = widgets.Button(description=\"Predict Score\")\n",
    " \n",
    "def predict_score(b):\n",
    "    with output:\n",
    "        clear_output()  # Clear the previous output\n",
    "         # Decode the encoded values back to their original values\n",
    "        decoded_venue = venue_encoder.transform([venue.value])\n",
    "        decoded_batting_team = bat_team_encoder.transform([batting_team.value])\n",
    "        decoded_bowling_team = bowl_team_encoder.transform([bowling_team.value])\n",
    "        decoded_batsman = batsman_encoder.transform([batsman.value])\n",
    "        decoded_bowler = bowler_encoder.transform([bowler.value])\n",
    " \n",
    " \n",
    "        input = np.array([decoded_venue,  decoded_batting_team, decoded_bowling_team,decoded_batsman, decoded_bowler])\n",
    "        input = input.reshape(1,5)\n",
    "        input = scaler.transform(input)\n",
    "        #print(input)\n",
    "        predicted_score = model.predict(input)\n",
    "        predicted_score = int(predicted_score[0,0])\n",
    " \n",
    "        print(predicted_score)"
   ]
  },
  {
   "cell_type": "markdown",
   "id": "b2cfc565",
   "metadata": {},
   "source": [
    "The widget-based interface allows you to interactively predict the score for specific match scenarios. Now, we have set up the button to trigger the predict_score function when clicked and display the widgets for venue, batting team , bowling team, striker and bowler."
   ]
  },
  {
   "cell_type": "code",
   "execution_count": 41,
   "id": "c4668656",
   "metadata": {},
   "outputs": [
    {
     "data": {
      "application/vnd.jupyter.widget-view+json": {
       "model_id": "73cf0f6889c54bdb9f1ba672b5e9ad76",
       "version_major": 2,
       "version_minor": 0
      },
      "text/plain": [
       "Dropdown(description='Select Venue:', options=('M Chinnaswamy Stadium', 'Punjab Cricket Association Stadium, M…"
      ]
     },
     "metadata": {},
     "output_type": "display_data"
    },
    {
     "data": {
      "application/vnd.jupyter.widget-view+json": {
       "model_id": "6e6f7560c6f14d938ee4b6691851bc81",
       "version_major": 2,
       "version_minor": 0
      },
      "text/plain": [
       "Dropdown(description='Select Batting Team:', options=('Kolkata Knight Riders', 'Chennai Super Kings', 'Rajasth…"
      ]
     },
     "metadata": {},
     "output_type": "display_data"
    },
    {
     "data": {
      "application/vnd.jupyter.widget-view+json": {
       "model_id": "109df525842b4932b479364b3046cdb1",
       "version_major": 2,
       "version_minor": 0
      },
      "text/plain": [
       "Dropdown(description='Select Batting Team:', options=('Royal Challengers Bangalore', 'Kings XI Punjab', 'Delhi…"
      ]
     },
     "metadata": {},
     "output_type": "display_data"
    },
    {
     "data": {
      "application/vnd.jupyter.widget-view+json": {
       "model_id": "e66f54d52f3c47828fc7fa959139e0e6",
       "version_major": 2,
       "version_minor": 0
      },
      "text/plain": [
       "Dropdown(description='Select Batsman:', options=('SC Ganguly', 'BB McCullum', 'RT Ponting', 'DJ Hussey', 'Moha…"
      ]
     },
     "metadata": {},
     "output_type": "display_data"
    },
    {
     "data": {
      "application/vnd.jupyter.widget-view+json": {
       "model_id": "5d3d485c30d842a1a1d9b04370897514",
       "version_major": 2,
       "version_minor": 0
      },
      "text/plain": [
       "Dropdown(description='Select Bowler:', options=('P Kumar', 'Z Khan', 'AA Noffke', 'JH Kallis', 'SB Joshi', 'CL…"
      ]
     },
     "metadata": {},
     "output_type": "display_data"
    },
    {
     "data": {
      "application/vnd.jupyter.widget-view+json": {
       "model_id": "4fb3149854534f9cb4f7e99ab371a891",
       "version_major": 2,
       "version_minor": 0
      },
      "text/plain": [
       "Button(description='Predict Score', style=ButtonStyle())"
      ]
     },
     "metadata": {},
     "output_type": "display_data"
    },
    {
     "data": {
      "application/vnd.jupyter.widget-view+json": {
       "model_id": "94a52b81cb0e4049b2b1365c4bd21b05",
       "version_major": 2,
       "version_minor": 0
      },
      "text/plain": [
       "Output()"
      ]
     },
     "metadata": {},
     "output_type": "display_data"
    }
   ],
   "source": [
    "predict_button.on_click(predict_score)\n",
    "output = widgets.Output()\n",
    "display(venue, batting_team, bowling_team, batsman, bowler, predict_button, output)"
   ]
  },
  {
   "cell_type": "markdown",
   "id": "e1985bff",
   "metadata": {},
   "source": [
    "We have predicted the score of the match between KKR and RCB in M chinnaswamy Stadium. The predicted score of the match is 161."
   ]
  },
  {
   "cell_type": "code",
   "execution_count": null,
   "id": "3b0bb467",
   "metadata": {},
   "outputs": [],
   "source": []
  }
 ],
 "metadata": {
  "kernelspec": {
   "display_name": "Python 3 (ipykernel)",
   "language": "python",
   "name": "python3"
  },
  "language_info": {
   "codemirror_mode": {
    "name": "ipython",
    "version": 3
   },
   "file_extension": ".py",
   "mimetype": "text/x-python",
   "name": "python",
   "nbconvert_exporter": "python",
   "pygments_lexer": "ipython3",
   "version": "3.9.7"
  }
 },
 "nbformat": 4,
 "nbformat_minor": 5
}
